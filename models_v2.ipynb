{
 "cells": [
  {
   "cell_type": "markdown",
   "metadata": {},
   "source": [
    "# Airbnb New User Booking Predictions"
   ]
  },
  {
   "cell_type": "code",
   "execution_count": 43,
   "metadata": {
    "collapsed": true
   },
   "outputs": [],
   "source": [
    "%matplotlib inline\n",
    "\n",
    "import numpy as np\n",
    "import pandas as pd\n",
    "import seaborn as sns\n",
    "import matplotlib.pyplot as plt"
   ]
  },
  {
   "cell_type": "code",
   "execution_count": 44,
   "metadata": {},
   "outputs": [],
   "source": [
    "users = pd.read_csv('../data/users_sessions.csv')"
   ]
  },
  {
   "cell_type": "code",
   "execution_count": 45,
   "metadata": {},
   "outputs": [
    {
     "data": {
      "text/html": [
       "<div>\n",
       "<style>\n",
       "    .dataframe thead tr:only-child th {\n",
       "        text-align: right;\n",
       "    }\n",
       "\n",
       "    .dataframe thead th {\n",
       "        text-align: left;\n",
       "    }\n",
       "\n",
       "    .dataframe tbody tr th {\n",
       "        vertical-align: top;\n",
       "    }\n",
       "</style>\n",
       "<table border=\"1\" class=\"dataframe\">\n",
       "  <thead>\n",
       "    <tr style=\"text-align: right;\">\n",
       "      <th></th>\n",
       "      <th>date_account_created</th>\n",
       "      <th>year_created</th>\n",
       "      <th>month_created</th>\n",
       "      <th>timestamp_first_active</th>\n",
       "      <th>active_created_duration</th>\n",
       "      <th>gender</th>\n",
       "      <th>age</th>\n",
       "      <th>age_bucket</th>\n",
       "      <th>signup_method</th>\n",
       "      <th>signup_flow</th>\n",
       "      <th>...</th>\n",
       "      <th>iPodtouch</th>\n",
       "      <th>view</th>\n",
       "      <th>click</th>\n",
       "      <th>data</th>\n",
       "      <th>submit</th>\n",
       "      <th>booking_request</th>\n",
       "      <th>click_through_rate</th>\n",
       "      <th>cvr1</th>\n",
       "      <th>cvr2</th>\n",
       "      <th>country_destination</th>\n",
       "    </tr>\n",
       "  </thead>\n",
       "  <tbody>\n",
       "    <tr>\n",
       "      <th>0</th>\n",
       "      <td>2010-06-28</td>\n",
       "      <td>2010</td>\n",
       "      <td>6</td>\n",
       "      <td>2009-03-19</td>\n",
       "      <td>466</td>\n",
       "      <td>NaN</td>\n",
       "      <td>34.0</td>\n",
       "      <td>30-35</td>\n",
       "      <td>facebook</td>\n",
       "      <td>0</td>\n",
       "      <td>...</td>\n",
       "      <td>NaN</td>\n",
       "      <td>NaN</td>\n",
       "      <td>NaN</td>\n",
       "      <td>NaN</td>\n",
       "      <td>NaN</td>\n",
       "      <td>NaN</td>\n",
       "      <td>NaN</td>\n",
       "      <td>NaN</td>\n",
       "      <td>NaN</td>\n",
       "      <td>NDF</td>\n",
       "    </tr>\n",
       "    <tr>\n",
       "      <th>1</th>\n",
       "      <td>2011-05-25</td>\n",
       "      <td>2011</td>\n",
       "      <td>5</td>\n",
       "      <td>2009-05-23</td>\n",
       "      <td>732</td>\n",
       "      <td>Male</td>\n",
       "      <td>38.0</td>\n",
       "      <td>35-40</td>\n",
       "      <td>facebook</td>\n",
       "      <td>0</td>\n",
       "      <td>...</td>\n",
       "      <td>NaN</td>\n",
       "      <td>NaN</td>\n",
       "      <td>NaN</td>\n",
       "      <td>NaN</td>\n",
       "      <td>NaN</td>\n",
       "      <td>NaN</td>\n",
       "      <td>NaN</td>\n",
       "      <td>NaN</td>\n",
       "      <td>NaN</td>\n",
       "      <td>NDF</td>\n",
       "    </tr>\n",
       "    <tr>\n",
       "      <th>2</th>\n",
       "      <td>2010-09-28</td>\n",
       "      <td>2010</td>\n",
       "      <td>9</td>\n",
       "      <td>2009-06-09</td>\n",
       "      <td>476</td>\n",
       "      <td>Female</td>\n",
       "      <td>56.0</td>\n",
       "      <td>55-60</td>\n",
       "      <td>basic</td>\n",
       "      <td>3</td>\n",
       "      <td>...</td>\n",
       "      <td>NaN</td>\n",
       "      <td>NaN</td>\n",
       "      <td>NaN</td>\n",
       "      <td>NaN</td>\n",
       "      <td>NaN</td>\n",
       "      <td>NaN</td>\n",
       "      <td>NaN</td>\n",
       "      <td>NaN</td>\n",
       "      <td>NaN</td>\n",
       "      <td>US</td>\n",
       "    </tr>\n",
       "    <tr>\n",
       "      <th>3</th>\n",
       "      <td>2011-12-05</td>\n",
       "      <td>2011</td>\n",
       "      <td>12</td>\n",
       "      <td>2009-10-31</td>\n",
       "      <td>765</td>\n",
       "      <td>Female</td>\n",
       "      <td>42.0</td>\n",
       "      <td>40-45</td>\n",
       "      <td>facebook</td>\n",
       "      <td>0</td>\n",
       "      <td>...</td>\n",
       "      <td>NaN</td>\n",
       "      <td>NaN</td>\n",
       "      <td>NaN</td>\n",
       "      <td>NaN</td>\n",
       "      <td>NaN</td>\n",
       "      <td>NaN</td>\n",
       "      <td>NaN</td>\n",
       "      <td>NaN</td>\n",
       "      <td>NaN</td>\n",
       "      <td>other</td>\n",
       "    </tr>\n",
       "    <tr>\n",
       "      <th>4</th>\n",
       "      <td>2010-09-14</td>\n",
       "      <td>2010</td>\n",
       "      <td>9</td>\n",
       "      <td>2009-12-08</td>\n",
       "      <td>280</td>\n",
       "      <td>NaN</td>\n",
       "      <td>41.0</td>\n",
       "      <td>40-45</td>\n",
       "      <td>basic</td>\n",
       "      <td>0</td>\n",
       "      <td>...</td>\n",
       "      <td>NaN</td>\n",
       "      <td>NaN</td>\n",
       "      <td>NaN</td>\n",
       "      <td>NaN</td>\n",
       "      <td>NaN</td>\n",
       "      <td>NaN</td>\n",
       "      <td>NaN</td>\n",
       "      <td>NaN</td>\n",
       "      <td>NaN</td>\n",
       "      <td>US</td>\n",
       "    </tr>\n",
       "  </tbody>\n",
       "</table>\n",
       "<p>5 rows × 39 columns</p>\n",
       "</div>"
      ],
      "text/plain": [
       "  date_account_created  year_created  month_created timestamp_first_active  \\\n",
       "0           2010-06-28          2010              6             2009-03-19   \n",
       "1           2011-05-25          2011              5             2009-05-23   \n",
       "2           2010-09-28          2010              9             2009-06-09   \n",
       "3           2011-12-05          2011             12             2009-10-31   \n",
       "4           2010-09-14          2010              9             2009-12-08   \n",
       "\n",
       "   active_created_duration  gender   age age_bucket signup_method  \\\n",
       "0                      466     NaN  34.0      30-35      facebook   \n",
       "1                      732    Male  38.0      35-40      facebook   \n",
       "2                      476  Female  56.0      55-60         basic   \n",
       "3                      765  Female  42.0      40-45      facebook   \n",
       "4                      280     NaN  41.0      40-45         basic   \n",
       "\n",
       "   signup_flow         ...          iPodtouch view click data submit  \\\n",
       "0            0         ...                NaN  NaN   NaN  NaN    NaN   \n",
       "1            0         ...                NaN  NaN   NaN  NaN    NaN   \n",
       "2            3         ...                NaN  NaN   NaN  NaN    NaN   \n",
       "3            0         ...                NaN  NaN   NaN  NaN    NaN   \n",
       "4            0         ...                NaN  NaN   NaN  NaN    NaN   \n",
       "\n",
       "  booking_request click_through_rate  cvr1  cvr2  country_destination  \n",
       "0             NaN                NaN   NaN   NaN                  NDF  \n",
       "1             NaN                NaN   NaN   NaN                  NDF  \n",
       "2             NaN                NaN   NaN   NaN                   US  \n",
       "3             NaN                NaN   NaN   NaN                other  \n",
       "4             NaN                NaN   NaN   NaN                   US  \n",
       "\n",
       "[5 rows x 39 columns]"
      ]
     },
     "execution_count": 45,
     "metadata": {},
     "output_type": "execute_result"
    }
   ],
   "source": [
    "users.head()"
   ]
  },
  {
   "cell_type": "markdown",
   "metadata": {},
   "source": [
    "### Preprocessing the data"
   ]
  },
  {
   "cell_type": "code",
   "execution_count": 46,
   "metadata": {
    "collapsed": true
   },
   "outputs": [],
   "source": [
    "df = users[['year_created', \n",
    "            'month_created', \n",
    "            'gender', \n",
    "            'age_bucket', \n",
    "            'signup_method',\n",
    "            'first_affiliate_tracked',\n",
    "            'affiliate_channel', \n",
    "            'affiliate_provider', \n",
    "            'signup_app', \n",
    "            'first_device_type',\n",
    "            'first_browser',\n",
    "            'Android Phone', \n",
    "            'Blackberry', 'Chromebook',\n",
    "            'Linux Desktop', \n",
    "            'Mac Desktop', \n",
    "            'Opera Phone', \n",
    "            'Tablet',\n",
    "            'Windows Desktop', \n",
    "            'Windows Phone', \n",
    "            'iPad Tablet', \n",
    "            'iPhone',\n",
    "            'iPodtouch', \n",
    "            'view', \n",
    "            'click', \n",
    "            'data', \n",
    "            'submit', \n",
    "            'booking_request',\n",
    "            'click_through_rate', \n",
    "            'cvr1', \n",
    "            'cvr2',\n",
    "            'country_destination']]"
   ]
  },
  {
   "cell_type": "code",
   "execution_count": 47,
   "metadata": {},
   "outputs": [
    {
     "data": {
      "text/html": [
       "<div>\n",
       "<style>\n",
       "    .dataframe thead tr:only-child th {\n",
       "        text-align: right;\n",
       "    }\n",
       "\n",
       "    .dataframe thead th {\n",
       "        text-align: left;\n",
       "    }\n",
       "\n",
       "    .dataframe tbody tr th {\n",
       "        vertical-align: top;\n",
       "    }\n",
       "</style>\n",
       "<table border=\"1\" class=\"dataframe\">\n",
       "  <thead>\n",
       "    <tr style=\"text-align: right;\">\n",
       "      <th></th>\n",
       "      <th>year_created</th>\n",
       "      <th>month_created</th>\n",
       "      <th>gender</th>\n",
       "      <th>age_bucket</th>\n",
       "      <th>signup_method</th>\n",
       "      <th>first_affiliate_tracked</th>\n",
       "      <th>affiliate_channel</th>\n",
       "      <th>affiliate_provider</th>\n",
       "      <th>signup_app</th>\n",
       "      <th>first_device_type</th>\n",
       "      <th>...</th>\n",
       "      <th>iPodtouch</th>\n",
       "      <th>view</th>\n",
       "      <th>click</th>\n",
       "      <th>data</th>\n",
       "      <th>submit</th>\n",
       "      <th>booking_request</th>\n",
       "      <th>click_through_rate</th>\n",
       "      <th>cvr1</th>\n",
       "      <th>cvr2</th>\n",
       "      <th>country_destination</th>\n",
       "    </tr>\n",
       "  </thead>\n",
       "  <tbody>\n",
       "    <tr>\n",
       "      <th>0</th>\n",
       "      <td>2010</td>\n",
       "      <td>6</td>\n",
       "      <td>NaN</td>\n",
       "      <td>30-35</td>\n",
       "      <td>facebook</td>\n",
       "      <td>untracked</td>\n",
       "      <td>direct</td>\n",
       "      <td>direct</td>\n",
       "      <td>Web</td>\n",
       "      <td>Mac Desktop</td>\n",
       "      <td>...</td>\n",
       "      <td>NaN</td>\n",
       "      <td>NaN</td>\n",
       "      <td>NaN</td>\n",
       "      <td>NaN</td>\n",
       "      <td>NaN</td>\n",
       "      <td>NaN</td>\n",
       "      <td>NaN</td>\n",
       "      <td>NaN</td>\n",
       "      <td>NaN</td>\n",
       "      <td>NDF</td>\n",
       "    </tr>\n",
       "    <tr>\n",
       "      <th>1</th>\n",
       "      <td>2011</td>\n",
       "      <td>5</td>\n",
       "      <td>Male</td>\n",
       "      <td>35-40</td>\n",
       "      <td>facebook</td>\n",
       "      <td>untracked</td>\n",
       "      <td>seo</td>\n",
       "      <td>google</td>\n",
       "      <td>Web</td>\n",
       "      <td>Mac Desktop</td>\n",
       "      <td>...</td>\n",
       "      <td>NaN</td>\n",
       "      <td>NaN</td>\n",
       "      <td>NaN</td>\n",
       "      <td>NaN</td>\n",
       "      <td>NaN</td>\n",
       "      <td>NaN</td>\n",
       "      <td>NaN</td>\n",
       "      <td>NaN</td>\n",
       "      <td>NaN</td>\n",
       "      <td>NDF</td>\n",
       "    </tr>\n",
       "    <tr>\n",
       "      <th>2</th>\n",
       "      <td>2010</td>\n",
       "      <td>9</td>\n",
       "      <td>Female</td>\n",
       "      <td>55-60</td>\n",
       "      <td>basic</td>\n",
       "      <td>untracked</td>\n",
       "      <td>direct</td>\n",
       "      <td>direct</td>\n",
       "      <td>Web</td>\n",
       "      <td>Windows Desktop</td>\n",
       "      <td>...</td>\n",
       "      <td>NaN</td>\n",
       "      <td>NaN</td>\n",
       "      <td>NaN</td>\n",
       "      <td>NaN</td>\n",
       "      <td>NaN</td>\n",
       "      <td>NaN</td>\n",
       "      <td>NaN</td>\n",
       "      <td>NaN</td>\n",
       "      <td>NaN</td>\n",
       "      <td>US</td>\n",
       "    </tr>\n",
       "    <tr>\n",
       "      <th>3</th>\n",
       "      <td>2011</td>\n",
       "      <td>12</td>\n",
       "      <td>Female</td>\n",
       "      <td>40-45</td>\n",
       "      <td>facebook</td>\n",
       "      <td>untracked</td>\n",
       "      <td>direct</td>\n",
       "      <td>direct</td>\n",
       "      <td>Web</td>\n",
       "      <td>Mac Desktop</td>\n",
       "      <td>...</td>\n",
       "      <td>NaN</td>\n",
       "      <td>NaN</td>\n",
       "      <td>NaN</td>\n",
       "      <td>NaN</td>\n",
       "      <td>NaN</td>\n",
       "      <td>NaN</td>\n",
       "      <td>NaN</td>\n",
       "      <td>NaN</td>\n",
       "      <td>NaN</td>\n",
       "      <td>other</td>\n",
       "    </tr>\n",
       "    <tr>\n",
       "      <th>4</th>\n",
       "      <td>2010</td>\n",
       "      <td>9</td>\n",
       "      <td>NaN</td>\n",
       "      <td>40-45</td>\n",
       "      <td>basic</td>\n",
       "      <td>untracked</td>\n",
       "      <td>direct</td>\n",
       "      <td>direct</td>\n",
       "      <td>Web</td>\n",
       "      <td>Mac Desktop</td>\n",
       "      <td>...</td>\n",
       "      <td>NaN</td>\n",
       "      <td>NaN</td>\n",
       "      <td>NaN</td>\n",
       "      <td>NaN</td>\n",
       "      <td>NaN</td>\n",
       "      <td>NaN</td>\n",
       "      <td>NaN</td>\n",
       "      <td>NaN</td>\n",
       "      <td>NaN</td>\n",
       "      <td>US</td>\n",
       "    </tr>\n",
       "  </tbody>\n",
       "</table>\n",
       "<p>5 rows × 32 columns</p>\n",
       "</div>"
      ],
      "text/plain": [
       "   year_created  month_created  gender age_bucket signup_method  \\\n",
       "0          2010              6     NaN      30-35      facebook   \n",
       "1          2011              5    Male      35-40      facebook   \n",
       "2          2010              9  Female      55-60         basic   \n",
       "3          2011             12  Female      40-45      facebook   \n",
       "4          2010              9     NaN      40-45         basic   \n",
       "\n",
       "  first_affiliate_tracked affiliate_channel affiliate_provider signup_app  \\\n",
       "0               untracked            direct             direct        Web   \n",
       "1               untracked               seo             google        Web   \n",
       "2               untracked            direct             direct        Web   \n",
       "3               untracked            direct             direct        Web   \n",
       "4               untracked            direct             direct        Web   \n",
       "\n",
       "  first_device_type         ...          iPodtouch  view  click  data  submit  \\\n",
       "0       Mac Desktop         ...                NaN   NaN    NaN   NaN     NaN   \n",
       "1       Mac Desktop         ...                NaN   NaN    NaN   NaN     NaN   \n",
       "2   Windows Desktop         ...                NaN   NaN    NaN   NaN     NaN   \n",
       "3       Mac Desktop         ...                NaN   NaN    NaN   NaN     NaN   \n",
       "4       Mac Desktop         ...                NaN   NaN    NaN   NaN     NaN   \n",
       "\n",
       "   booking_request  click_through_rate  cvr1  cvr2  country_destination  \n",
       "0              NaN                 NaN   NaN   NaN                  NDF  \n",
       "1              NaN                 NaN   NaN   NaN                  NDF  \n",
       "2              NaN                 NaN   NaN   NaN                   US  \n",
       "3              NaN                 NaN   NaN   NaN                other  \n",
       "4              NaN                 NaN   NaN   NaN                   US  \n",
       "\n",
       "[5 rows x 32 columns]"
      ]
     },
     "execution_count": 47,
     "metadata": {},
     "output_type": "execute_result"
    }
   ],
   "source": [
    "df.head()"
   ]
  },
  {
   "cell_type": "code",
   "execution_count": 48,
   "metadata": {
    "collapsed": true
   },
   "outputs": [],
   "source": [
    "# Import preprocessing tools from sklearn\n",
    "from sklearn.preprocessing import LabelEncoder, StandardScaler, MinMaxScaler\n",
    "\n",
    "X = df.loc[:, df.columns != 'country_destination']\n",
    "\n",
    "y = df['country_destination']"
   ]
  },
  {
   "cell_type": "code",
   "execution_count": 49,
   "metadata": {},
   "outputs": [
    {
     "data": {
      "text/html": [
       "<div>\n",
       "<style>\n",
       "    .dataframe thead tr:only-child th {\n",
       "        text-align: right;\n",
       "    }\n",
       "\n",
       "    .dataframe thead th {\n",
       "        text-align: left;\n",
       "    }\n",
       "\n",
       "    .dataframe tbody tr th {\n",
       "        vertical-align: top;\n",
       "    }\n",
       "</style>\n",
       "<table border=\"1\" class=\"dataframe\">\n",
       "  <thead>\n",
       "    <tr style=\"text-align: right;\">\n",
       "      <th></th>\n",
       "      <th>Android Phone</th>\n",
       "      <th>Blackberry</th>\n",
       "      <th>Chromebook</th>\n",
       "      <th>Linux Desktop</th>\n",
       "      <th>Mac Desktop</th>\n",
       "      <th>Opera Phone</th>\n",
       "      <th>Tablet</th>\n",
       "      <th>Windows Desktop</th>\n",
       "      <th>Windows Phone</th>\n",
       "      <th>iPad Tablet</th>\n",
       "      <th>...</th>\n",
       "      <th>first_browser_SeaMonkey</th>\n",
       "      <th>first_browser_Silk</th>\n",
       "      <th>first_browser_SiteKiosk</th>\n",
       "      <th>first_browser_SlimBrowser</th>\n",
       "      <th>first_browser_Sogou Explorer</th>\n",
       "      <th>first_browser_Stainless</th>\n",
       "      <th>first_browser_TenFourFox</th>\n",
       "      <th>first_browser_TheWorld Browser</th>\n",
       "      <th>first_browser_Yandex.Browser</th>\n",
       "      <th>first_browser_wOSBrowser</th>\n",
       "    </tr>\n",
       "  </thead>\n",
       "  <tbody>\n",
       "    <tr>\n",
       "      <th>0</th>\n",
       "      <td>NaN</td>\n",
       "      <td>NaN</td>\n",
       "      <td>NaN</td>\n",
       "      <td>NaN</td>\n",
       "      <td>NaN</td>\n",
       "      <td>NaN</td>\n",
       "      <td>NaN</td>\n",
       "      <td>NaN</td>\n",
       "      <td>NaN</td>\n",
       "      <td>NaN</td>\n",
       "      <td>...</td>\n",
       "      <td>0</td>\n",
       "      <td>0</td>\n",
       "      <td>0</td>\n",
       "      <td>0</td>\n",
       "      <td>0</td>\n",
       "      <td>0</td>\n",
       "      <td>0</td>\n",
       "      <td>0</td>\n",
       "      <td>0</td>\n",
       "      <td>0</td>\n",
       "    </tr>\n",
       "    <tr>\n",
       "      <th>1</th>\n",
       "      <td>NaN</td>\n",
       "      <td>NaN</td>\n",
       "      <td>NaN</td>\n",
       "      <td>NaN</td>\n",
       "      <td>NaN</td>\n",
       "      <td>NaN</td>\n",
       "      <td>NaN</td>\n",
       "      <td>NaN</td>\n",
       "      <td>NaN</td>\n",
       "      <td>NaN</td>\n",
       "      <td>...</td>\n",
       "      <td>0</td>\n",
       "      <td>0</td>\n",
       "      <td>0</td>\n",
       "      <td>0</td>\n",
       "      <td>0</td>\n",
       "      <td>0</td>\n",
       "      <td>0</td>\n",
       "      <td>0</td>\n",
       "      <td>0</td>\n",
       "      <td>0</td>\n",
       "    </tr>\n",
       "    <tr>\n",
       "      <th>2</th>\n",
       "      <td>NaN</td>\n",
       "      <td>NaN</td>\n",
       "      <td>NaN</td>\n",
       "      <td>NaN</td>\n",
       "      <td>NaN</td>\n",
       "      <td>NaN</td>\n",
       "      <td>NaN</td>\n",
       "      <td>NaN</td>\n",
       "      <td>NaN</td>\n",
       "      <td>NaN</td>\n",
       "      <td>...</td>\n",
       "      <td>0</td>\n",
       "      <td>0</td>\n",
       "      <td>0</td>\n",
       "      <td>0</td>\n",
       "      <td>0</td>\n",
       "      <td>0</td>\n",
       "      <td>0</td>\n",
       "      <td>0</td>\n",
       "      <td>0</td>\n",
       "      <td>0</td>\n",
       "    </tr>\n",
       "    <tr>\n",
       "      <th>3</th>\n",
       "      <td>NaN</td>\n",
       "      <td>NaN</td>\n",
       "      <td>NaN</td>\n",
       "      <td>NaN</td>\n",
       "      <td>NaN</td>\n",
       "      <td>NaN</td>\n",
       "      <td>NaN</td>\n",
       "      <td>NaN</td>\n",
       "      <td>NaN</td>\n",
       "      <td>NaN</td>\n",
       "      <td>...</td>\n",
       "      <td>0</td>\n",
       "      <td>0</td>\n",
       "      <td>0</td>\n",
       "      <td>0</td>\n",
       "      <td>0</td>\n",
       "      <td>0</td>\n",
       "      <td>0</td>\n",
       "      <td>0</td>\n",
       "      <td>0</td>\n",
       "      <td>0</td>\n",
       "    </tr>\n",
       "    <tr>\n",
       "      <th>4</th>\n",
       "      <td>NaN</td>\n",
       "      <td>NaN</td>\n",
       "      <td>NaN</td>\n",
       "      <td>NaN</td>\n",
       "      <td>NaN</td>\n",
       "      <td>NaN</td>\n",
       "      <td>NaN</td>\n",
       "      <td>NaN</td>\n",
       "      <td>NaN</td>\n",
       "      <td>NaN</td>\n",
       "      <td>...</td>\n",
       "      <td>0</td>\n",
       "      <td>0</td>\n",
       "      <td>0</td>\n",
       "      <td>0</td>\n",
       "      <td>0</td>\n",
       "      <td>0</td>\n",
       "      <td>0</td>\n",
       "      <td>0</td>\n",
       "      <td>0</td>\n",
       "      <td>0</td>\n",
       "    </tr>\n",
       "  </tbody>\n",
       "</table>\n",
       "<p>5 rows × 156 columns</p>\n",
       "</div>"
      ],
      "text/plain": [
       "   Android Phone  Blackberry  Chromebook  Linux Desktop  Mac Desktop  \\\n",
       "0            NaN         NaN         NaN            NaN          NaN   \n",
       "1            NaN         NaN         NaN            NaN          NaN   \n",
       "2            NaN         NaN         NaN            NaN          NaN   \n",
       "3            NaN         NaN         NaN            NaN          NaN   \n",
       "4            NaN         NaN         NaN            NaN          NaN   \n",
       "\n",
       "   Opera Phone  Tablet  Windows Desktop  Windows Phone  iPad Tablet  \\\n",
       "0          NaN     NaN              NaN            NaN          NaN   \n",
       "1          NaN     NaN              NaN            NaN          NaN   \n",
       "2          NaN     NaN              NaN            NaN          NaN   \n",
       "3          NaN     NaN              NaN            NaN          NaN   \n",
       "4          NaN     NaN              NaN            NaN          NaN   \n",
       "\n",
       "             ...             first_browser_SeaMonkey  first_browser_Silk  \\\n",
       "0            ...                                   0                   0   \n",
       "1            ...                                   0                   0   \n",
       "2            ...                                   0                   0   \n",
       "3            ...                                   0                   0   \n",
       "4            ...                                   0                   0   \n",
       "\n",
       "   first_browser_SiteKiosk  first_browser_SlimBrowser  \\\n",
       "0                        0                          0   \n",
       "1                        0                          0   \n",
       "2                        0                          0   \n",
       "3                        0                          0   \n",
       "4                        0                          0   \n",
       "\n",
       "   first_browser_Sogou Explorer  first_browser_Stainless  \\\n",
       "0                             0                        0   \n",
       "1                             0                        0   \n",
       "2                             0                        0   \n",
       "3                             0                        0   \n",
       "4                             0                        0   \n",
       "\n",
       "   first_browser_TenFourFox  first_browser_TheWorld Browser  \\\n",
       "0                         0                               0   \n",
       "1                         0                               0   \n",
       "2                         0                               0   \n",
       "3                         0                               0   \n",
       "4                         0                               0   \n",
       "\n",
       "   first_browser_Yandex.Browser  first_browser_wOSBrowser  \n",
       "0                             0                         0  \n",
       "1                             0                         0  \n",
       "2                             0                         0  \n",
       "3                             0                         0  \n",
       "4                             0                         0  \n",
       "\n",
       "[5 rows x 156 columns]"
      ]
     },
     "execution_count": 49,
     "metadata": {},
     "output_type": "execute_result"
    }
   ],
   "source": [
    "# One-hot encoding of categorical features using pandas dummies method\n",
    "to_be_encoded = ['year_created',\n",
    "                 'month_created',\n",
    "                 'gender',\n",
    "                 'age_bucket',\n",
    "                 'signup_method',\n",
    "                 'affiliate_channel', \n",
    "                 'affiliate_provider',\n",
    "                 'first_affiliate_tracked',\n",
    "                 'signup_app', \n",
    "                 'first_device_type',\n",
    "                 'first_browser']\n",
    "\n",
    "for feature in to_be_encoded:\n",
    "    X_encoded = pd.get_dummies(X[feature], prefix= feature)\n",
    "    X = X.drop([feature], axis= 1)\n",
    "    X = pd.concat((X, X_encoded), axis= 1)\n",
    "    \n",
    "X.head()"
   ]
  },
  {
   "cell_type": "code",
   "execution_count": 50,
   "metadata": {},
   "outputs": [],
   "source": [
    "X = X.fillna(-1)\n",
    "X = X.replace(np.inf, 0)"
   ]
  },
  {
   "cell_type": "code",
   "execution_count": 51,
   "metadata": {},
   "outputs": [
    {
     "data": {
      "text/plain": [
       "array([ 7,  7, 10, ...,  7,  7,  7])"
      ]
     },
     "execution_count": 51,
     "metadata": {},
     "output_type": "execute_result"
    }
   ],
   "source": [
    "# Encoding the target variable\n",
    "le = LabelEncoder()\n",
    "y = le.fit_transform(y)\n",
    "y"
   ]
  },
  {
   "cell_type": "markdown",
   "metadata": {},
   "source": [
    "#### Select best features"
   ]
  },
  {
   "cell_type": "code",
   "execution_count": 103,
   "metadata": {
    "collapsed": true
   },
   "outputs": [],
   "source": [
    "from sklearn.feature_selection import SelectKBest, chi2\n",
    "\n",
    "X_new = SelectKBest(chi2, k= 20).fit_transform(X, y)\n",
    "X_train, X_test, y_train, y_test = train_test_split(X_new, y, test_size= 0.3, random_state= 42)"
   ]
  },
  {
   "cell_type": "markdown",
   "metadata": {},
   "source": [
    "#### Split data into training-testing sets"
   ]
  },
  {
   "cell_type": "code",
   "execution_count": 52,
   "metadata": {
    "collapsed": true
   },
   "outputs": [],
   "source": [
    "# Import cross validation\n",
    "from sklearn.model_selection import train_test_split\n",
    "\n",
    "# Split data into training and testing data\n",
    "X_train, X_test, y_train, y_test = train_test_split(X, y, test_size= 0.3, random_state= 42)"
   ]
  },
  {
   "cell_type": "markdown",
   "metadata": {},
   "source": [
    "#### Scale features (min-max)"
   ]
  },
  {
   "cell_type": "code",
   "execution_count": 53,
   "metadata": {
    "collapsed": true
   },
   "outputs": [],
   "source": [
    "# Function to get features scaled b/w 0-1 for models that are sensitive to unscaled data, such as KNN\n",
    "def get_scaled_values(data):\n",
    "    \n",
    "    scaler = MinMaxScaler()\n",
    "    scaled_vals = scaler.fit_transform(data)\n",
    "    \n",
    "    return scaled_vals"
   ]
  },
  {
   "cell_type": "code",
   "execution_count": 54,
   "metadata": {},
   "outputs": [],
   "source": [
    "Xs_train = get_scaled_values(X_train)\n",
    "Xs_test = get_scaled_values(X_test)"
   ]
  },
  {
   "cell_type": "markdown",
   "metadata": {},
   "source": [
    "### Creating evaluation metric function"
   ]
  },
  {
   "cell_type": "code",
   "execution_count": 55,
   "metadata": {
    "collapsed": true
   },
   "outputs": [],
   "source": [
    "import math\n",
    "\n",
    "def ndcg(pred, actu):\n",
    "    sum = 0\n",
    "    for i in range(len(pred)):\n",
    "        idx = np.argsort(pred[i])[::-1].tolist().index(actu[i]) + 1\n",
    "        if idx <= 5:\n",
    "            sum += 1/math.log(1+idx, 2)\n",
    "    return sum/len(pred)\n",
    "\n",
    "def scoring(model, X_test, y_test):\n",
    "    return ndcg(model.predict_proba(X_test), y_test)"
   ]
  },
  {
   "cell_type": "markdown",
   "metadata": {},
   "source": [
    "### Model Building & Evaluation"
   ]
  },
  {
   "cell_type": "code",
   "execution_count": 56,
   "metadata": {},
   "outputs": [],
   "source": [
    "# Import predictive models\n",
    "from sklearn.naive_bayes import GaussianNB\n",
    "from sklearn.linear_model import LogisticRegression\n",
    "from sklearn.neighbors import KNeighborsClassifier\n",
    "from sklearn.svm import SVC\n",
    "from sklearn.tree import DecisionTreeClassifier\n",
    "from sklearn.ensemble import RandomForestClassifier\n",
    "from xgboost.sklearn import XGBClassifier\n",
    "from sklearn.grid_search import GridSearchCV\n",
    "\n",
    "# Import classification report\n",
    "from sklearn.metrics import classification_report, f1_score"
   ]
  },
  {
   "cell_type": "markdown",
   "metadata": {},
   "source": [
    "#### Naive Bayes Classifier"
   ]
  },
  {
   "cell_type": "code",
   "execution_count": 57,
   "metadata": {
    "collapsed": true
   },
   "outputs": [],
   "source": [
    "nb = GaussianNB()"
   ]
  },
  {
   "cell_type": "code",
   "execution_count": 58,
   "metadata": {},
   "outputs": [
    {
     "data": {
      "text/plain": [
       "GaussianNB(priors=None)"
      ]
     },
     "execution_count": 58,
     "metadata": {},
     "output_type": "execute_result"
    }
   ],
   "source": [
    "nb.fit(X_train, y_train)"
   ]
  },
  {
   "cell_type": "code",
   "execution_count": 59,
   "metadata": {},
   "outputs": [
    {
     "data": {
      "text/plain": [
       "0.03573118167622339"
      ]
     },
     "execution_count": 59,
     "metadata": {},
     "output_type": "execute_result"
    }
   ],
   "source": [
    "scoring(nb, X_test, y_test)"
   ]
  },
  {
   "cell_type": "code",
   "execution_count": 60,
   "metadata": {},
   "outputs": [
    {
     "data": {
      "text/plain": [
       "0.011075596431405"
      ]
     },
     "execution_count": 60,
     "metadata": {},
     "output_type": "execute_result"
    }
   ],
   "source": [
    "f1_score(y_test, nb.predict(X_test), average= 'weighted')"
   ]
  },
  {
   "cell_type": "markdown",
   "metadata": {},
   "source": [
    "#### Logistic Regression"
   ]
  },
  {
   "cell_type": "code",
   "execution_count": 61,
   "metadata": {
    "collapsed": true
   },
   "outputs": [],
   "source": [
    "lr = LogisticRegression(penalty='l2', C=0.1,\n",
    "                            multi_class='ovr',\n",
    "                            # max_iter=300,\n",
    "                            solver='lbfgs',\n",
    "                            n_jobs=-1, \n",
    "                            random_state=1)"
   ]
  },
  {
   "cell_type": "code",
   "execution_count": 62,
   "metadata": {},
   "outputs": [
    {
     "data": {
      "text/plain": [
       "LogisticRegression(C=0.1, class_weight=None, dual=False, fit_intercept=True,\n",
       "          intercept_scaling=1, max_iter=100, multi_class='ovr', n_jobs=-1,\n",
       "          penalty='l2', random_state=1, solver='lbfgs', tol=0.0001,\n",
       "          verbose=0, warm_start=False)"
      ]
     },
     "execution_count": 62,
     "metadata": {},
     "output_type": "execute_result"
    }
   ],
   "source": [
    "lr.fit(X_train, y_train)"
   ]
  },
  {
   "cell_type": "code",
   "execution_count": 63,
   "metadata": {},
   "outputs": [
    {
     "data": {
      "text/plain": [
       "0.8174608113347719"
      ]
     },
     "execution_count": 63,
     "metadata": {},
     "output_type": "execute_result"
    }
   ],
   "source": [
    "scoring(lr, X_test, y_test)"
   ]
  },
  {
   "cell_type": "code",
   "execution_count": 64,
   "metadata": {},
   "outputs": [
    {
     "name": "stderr",
     "output_type": "stream",
     "text": [
      "/Users/rteran/anaconda/lib/python3.6/site-packages/sklearn/metrics/classification.py:1113: UndefinedMetricWarning: F-score is ill-defined and being set to 0.0 in labels with no predicted samples.\n",
      "  'precision', 'predicted', average, warn_for)\n"
     ]
    },
    {
     "data": {
      "text/plain": [
       "0.5487368621612928"
      ]
     },
     "execution_count": 64,
     "metadata": {},
     "output_type": "execute_result"
    }
   ],
   "source": [
    "f1_score(y_test, lr.predict(X_test), average= 'weighted')"
   ]
  },
  {
   "cell_type": "markdown",
   "metadata": {},
   "source": [
    "#### Decision Tree Classifier"
   ]
  },
  {
   "cell_type": "code",
   "execution_count": 65,
   "metadata": {
    "collapsed": true
   },
   "outputs": [],
   "source": [
    "tree = DecisionTreeClassifier(min_samples_split= 40)"
   ]
  },
  {
   "cell_type": "code",
   "execution_count": 66,
   "metadata": {},
   "outputs": [
    {
     "data": {
      "text/plain": [
       "DecisionTreeClassifier(class_weight=None, criterion='gini', max_depth=None,\n",
       "            max_features=None, max_leaf_nodes=None,\n",
       "            min_impurity_split=1e-07, min_samples_leaf=1,\n",
       "            min_samples_split=40, min_weight_fraction_leaf=0.0,\n",
       "            presort=False, random_state=None, splitter='best')"
      ]
     },
     "execution_count": 66,
     "metadata": {},
     "output_type": "execute_result"
    }
   ],
   "source": [
    "tree.fit(X_train, y_train)"
   ]
  },
  {
   "cell_type": "code",
   "execution_count": 67,
   "metadata": {},
   "outputs": [
    {
     "data": {
      "text/plain": [
       "0.7900719602568396"
      ]
     },
     "execution_count": 67,
     "metadata": {},
     "output_type": "execute_result"
    }
   ],
   "source": [
    "scoring(tree, X_test, y_test)"
   ]
  },
  {
   "cell_type": "code",
   "execution_count": 68,
   "metadata": {},
   "outputs": [
    {
     "data": {
      "text/plain": [
       "0.55623410840676779"
      ]
     },
     "execution_count": 68,
     "metadata": {},
     "output_type": "execute_result"
    }
   ],
   "source": [
    "f1_score(y_test, tree.predict(X_test), average= 'weighted')"
   ]
  },
  {
   "cell_type": "markdown",
   "metadata": {},
   "source": [
    "#### Ensemble - Random Forest Classifier"
   ]
  },
  {
   "cell_type": "code",
   "execution_count": 69,
   "metadata": {
    "collapsed": true
   },
   "outputs": [],
   "source": [
    "forest = RandomForestClassifier(random_state= 1, n_estimators= 45, min_samples_split= 3, min_samples_leaf= 2)"
   ]
  },
  {
   "cell_type": "code",
   "execution_count": 70,
   "metadata": {},
   "outputs": [
    {
     "data": {
      "text/plain": [
       "RandomForestClassifier(bootstrap=True, class_weight=None, criterion='gini',\n",
       "            max_depth=None, max_features='auto', max_leaf_nodes=None,\n",
       "            min_impurity_split=1e-07, min_samples_leaf=2,\n",
       "            min_samples_split=3, min_weight_fraction_leaf=0.0,\n",
       "            n_estimators=45, n_jobs=1, oob_score=False, random_state=1,\n",
       "            verbose=0, warm_start=False)"
      ]
     },
     "execution_count": 70,
     "metadata": {},
     "output_type": "execute_result"
    }
   ],
   "source": [
    "forest.fit(X_train, y_train)"
   ]
  },
  {
   "cell_type": "code",
   "execution_count": 72,
   "metadata": {},
   "outputs": [
    {
     "data": {
      "text/plain": [
       "0.8198350156079728"
      ]
     },
     "execution_count": 72,
     "metadata": {},
     "output_type": "execute_result"
    }
   ],
   "source": [
    "scoring(forest, X_test, y_test)"
   ]
  },
  {
   "cell_type": "code",
   "execution_count": 73,
   "metadata": {},
   "outputs": [
    {
     "name": "stderr",
     "output_type": "stream",
     "text": [
      "/Users/rteran/anaconda/lib/python3.6/site-packages/sklearn/metrics/classification.py:1113: UndefinedMetricWarning: F-score is ill-defined and being set to 0.0 in labels with no predicted samples.\n",
      "  'precision', 'predicted', average, warn_for)\n"
     ]
    },
    {
     "data": {
      "text/plain": [
       "0.57576029169257481"
      ]
     },
     "execution_count": 73,
     "metadata": {},
     "output_type": "execute_result"
    }
   ],
   "source": [
    "f1_score(y_test, forest.predict(X_test), average= 'weighted')"
   ]
  },
  {
   "cell_type": "markdown",
   "metadata": {},
   "source": [
    "#### Ensemble - Boosted Trees (XGB)"
   ]
  },
  {
   "cell_type": "code",
   "execution_count": 74,
   "metadata": {
    "collapsed": true
   },
   "outputs": [],
   "source": [
    "xgb = XGBClassifier(max_depth= 4, learning_rate= 0.2, n_estimators= 20, \n",
    "              objective= 'multi:softprob', subsample= 0.5, colsample_bytree= 0.5,\n",
    "              seed= 0, nthread= 4)"
   ]
  },
  {
   "cell_type": "code",
   "execution_count": 75,
   "metadata": {},
   "outputs": [
    {
     "data": {
      "text/plain": [
       "XGBClassifier(base_score=0.5, colsample_bylevel=1, colsample_bytree=0.5,\n",
       "       gamma=0, learning_rate=0.2, max_delta_step=0, max_depth=4,\n",
       "       min_child_weight=1, missing=None, n_estimators=20, nthread=4,\n",
       "       objective='multi:softprob', reg_alpha=0, reg_lambda=1,\n",
       "       scale_pos_weight=1, seed=0, silent=True, subsample=0.5)"
      ]
     },
     "execution_count": 75,
     "metadata": {},
     "output_type": "execute_result"
    }
   ],
   "source": [
    "xgb.fit(X_train, y_train)"
   ]
  },
  {
   "cell_type": "code",
   "execution_count": 76,
   "metadata": {},
   "outputs": [
    {
     "data": {
      "text/plain": [
       "0.8220200816218997"
      ]
     },
     "execution_count": 76,
     "metadata": {},
     "output_type": "execute_result"
    }
   ],
   "source": [
    "scoring(xgb, X_test, y_test)"
   ]
  },
  {
   "cell_type": "code",
   "execution_count": 77,
   "metadata": {},
   "outputs": [
    {
     "name": "stderr",
     "output_type": "stream",
     "text": [
      "/Users/rteran/anaconda/lib/python3.6/site-packages/sklearn/metrics/classification.py:1113: UndefinedMetricWarning: F-score is ill-defined and being set to 0.0 in labels with no predicted samples.\n",
      "  'precision', 'predicted', average, warn_for)\n"
     ]
    },
    {
     "data": {
      "text/plain": [
       "0.56162731893556617"
      ]
     },
     "execution_count": 77,
     "metadata": {},
     "output_type": "execute_result"
    }
   ],
   "source": [
    "f1_score(y_test, xgb.predict(X_test), average= 'weighted')"
   ]
  },
  {
   "cell_type": "markdown",
   "metadata": {},
   "source": [
    "#### K-Nearest Neighbors"
   ]
  },
  {
   "cell_type": "code",
   "execution_count": 78,
   "metadata": {
    "collapsed": true
   },
   "outputs": [],
   "source": [
    "knn = KNeighborsClassifier(n_neighbors= 5)"
   ]
  },
  {
   "cell_type": "code",
   "execution_count": 80,
   "metadata": {},
   "outputs": [],
   "source": [
    "from sklearn.feature_selection import SelectKBest, chi2\n",
    "\n",
    "X_scaled = get_scaled_values(X)\n",
    "X_new = SelectKBest(chi2, k= 20).fit_transform(X_scaled, y)\n",
    "Xs_train, Xs_test, y_train, y_test = train_test_split(X_new, y, test_size= 0.3, random_state= 42)"
   ]
  },
  {
   "cell_type": "code",
   "execution_count": 81,
   "metadata": {},
   "outputs": [
    {
     "data": {
      "text/plain": [
       "KNeighborsClassifier(algorithm='auto', leaf_size=30, metric='minkowski',\n",
       "           metric_params=None, n_jobs=1, n_neighbors=5, p=2,\n",
       "           weights='uniform')"
      ]
     },
     "execution_count": 81,
     "metadata": {},
     "output_type": "execute_result"
    }
   ],
   "source": [
    "knn.fit(Xs_train, y_train)"
   ]
  },
  {
   "cell_type": "code",
   "execution_count": 82,
   "metadata": {},
   "outputs": [
    {
     "data": {
      "text/plain": [
       "0.7599588539692758"
      ]
     },
     "execution_count": 82,
     "metadata": {},
     "output_type": "execute_result"
    }
   ],
   "source": [
    "scoring(knn, Xs_test, y_test)"
   ]
  },
  {
   "cell_type": "code",
   "execution_count": 83,
   "metadata": {},
   "outputs": [
    {
     "name": "stderr",
     "output_type": "stream",
     "text": [
      "/Users/rteran/anaconda/lib/python3.6/site-packages/sklearn/metrics/classification.py:1113: UndefinedMetricWarning: F-score is ill-defined and being set to 0.0 in labels with no predicted samples.\n",
      "  'precision', 'predicted', average, warn_for)\n"
     ]
    },
    {
     "data": {
      "text/plain": [
       "0.51791548585367397"
      ]
     },
     "execution_count": 83,
     "metadata": {},
     "output_type": "execute_result"
    }
   ],
   "source": [
    "f1_score(y_test, knn.predict(Xs_test), average= 'weighted')"
   ]
  },
  {
   "cell_type": "markdown",
   "metadata": {},
   "source": [
    "#### Final Model using Grid Search"
   ]
  },
  {
   "cell_type": "code",
   "execution_count": 84,
   "metadata": {
    "collapsed": true
   },
   "outputs": [],
   "source": [
    "params = {'max_depth': [4, 5, 6],\n",
    "         'n_estimators': [20, 25, 30],\n",
    "         'learning_rate': [0.2, 0.3]\n",
    "         }\n",
    "\n",
    "clf = GridSearchCV(XGBClassifier(objective= 'multi:softprob', seed= 0, nthread= 4),\n",
    "                  param_grid= params,\n",
    "                  n_jobs= 2,\n",
    "                  scoring= scoring,\n",
    "                  cv= 3,\n",
    "                  verbose= 1)"
   ]
  },
  {
   "cell_type": "code",
   "execution_count": 85,
   "metadata": {},
   "outputs": [
    {
     "name": "stdout",
     "output_type": "stream",
     "text": [
      "Fitting 3 folds for each of 18 candidates, totalling 54 fits\n"
     ]
    },
    {
     "name": "stderr",
     "output_type": "stream",
     "text": [
      "[Parallel(n_jobs=2)]: Done  46 tasks      | elapsed: 75.8min\n",
      "[Parallel(n_jobs=2)]: Done  54 out of  54 | elapsed: 91.8min finished\n"
     ]
    },
    {
     "data": {
      "text/plain": [
       "GridSearchCV(cv=3, error_score='raise',\n",
       "       estimator=XGBClassifier(base_score=0.5, colsample_bylevel=1, colsample_bytree=1,\n",
       "       gamma=0, learning_rate=0.1, max_delta_step=0, max_depth=3,\n",
       "       min_child_weight=1, missing=None, n_estimators=100, nthread=4,\n",
       "       objective='multi:softprob', reg_alpha=0, reg_lambda=1,\n",
       "       scale_pos_weight=1, seed=0, silent=True, subsample=1),\n",
       "       fit_params={}, iid=True, n_jobs=2,\n",
       "       param_grid={'max_depth': [4, 5, 6], 'n_estimators': [20, 25, 30], 'learning_rate': [0.2, 0.3]},\n",
       "       pre_dispatch='2*n_jobs', refit=True,\n",
       "       scoring=<function scoring at 0x11428d158>, verbose=1)"
      ]
     },
     "execution_count": 85,
     "metadata": {},
     "output_type": "execute_result"
    }
   ],
   "source": [
    "clf.fit(X_train, y_train)"
   ]
  },
  {
   "cell_type": "code",
   "execution_count": 86,
   "metadata": {},
   "outputs": [
    {
     "data": {
      "text/plain": [
       "[mean: 0.82577, std: 0.00009, params: {'learning_rate': 0.2, 'max_depth': 4, 'n_estimators': 20},\n",
       " mean: 0.82609, std: 0.00014, params: {'learning_rate': 0.2, 'max_depth': 4, 'n_estimators': 25},\n",
       " mean: 0.82616, std: 0.00028, params: {'learning_rate': 0.2, 'max_depth': 4, 'n_estimators': 30},\n",
       " mean: 0.82627, std: 0.00019, params: {'learning_rate': 0.2, 'max_depth': 5, 'n_estimators': 20},\n",
       " mean: 0.82655, std: 0.00027, params: {'learning_rate': 0.2, 'max_depth': 5, 'n_estimators': 25},\n",
       " mean: 0.82660, std: 0.00014, params: {'learning_rate': 0.2, 'max_depth': 5, 'n_estimators': 30},\n",
       " mean: 0.82649, std: 0.00018, params: {'learning_rate': 0.2, 'max_depth': 6, 'n_estimators': 20},\n",
       " mean: 0.82666, std: 0.00024, params: {'learning_rate': 0.2, 'max_depth': 6, 'n_estimators': 25},\n",
       " mean: 0.82677, std: 0.00030, params: {'learning_rate': 0.2, 'max_depth': 6, 'n_estimators': 30},\n",
       " mean: 0.82603, std: 0.00039, params: {'learning_rate': 0.3, 'max_depth': 4, 'n_estimators': 20},\n",
       " mean: 0.82620, std: 0.00034, params: {'learning_rate': 0.3, 'max_depth': 4, 'n_estimators': 25},\n",
       " mean: 0.82616, std: 0.00038, params: {'learning_rate': 0.3, 'max_depth': 4, 'n_estimators': 30},\n",
       " mean: 0.82635, std: 0.00013, params: {'learning_rate': 0.3, 'max_depth': 5, 'n_estimators': 20},\n",
       " mean: 0.82654, std: 0.00014, params: {'learning_rate': 0.3, 'max_depth': 5, 'n_estimators': 25},\n",
       " mean: 0.82647, std: 0.00011, params: {'learning_rate': 0.3, 'max_depth': 5, 'n_estimators': 30},\n",
       " mean: 0.82674, std: 0.00039, params: {'learning_rate': 0.3, 'max_depth': 6, 'n_estimators': 20},\n",
       " mean: 0.82666, std: 0.00029, params: {'learning_rate': 0.3, 'max_depth': 6, 'n_estimators': 25},\n",
       " mean: 0.82666, std: 0.00018, params: {'learning_rate': 0.3, 'max_depth': 6, 'n_estimators': 30}]"
      ]
     },
     "execution_count": 86,
     "metadata": {},
     "output_type": "execute_result"
    }
   ],
   "source": [
    "clf.grid_scores_"
   ]
  },
  {
   "cell_type": "code",
   "execution_count": 87,
   "metadata": {},
   "outputs": [
    {
     "data": {
      "text/plain": [
       "0.8267723308921581"
      ]
     },
     "execution_count": 87,
     "metadata": {},
     "output_type": "execute_result"
    }
   ],
   "source": [
    "clf.best_score_"
   ]
  },
  {
   "cell_type": "code",
   "execution_count": 89,
   "metadata": {},
   "outputs": [
    {
     "data": {
      "text/plain": [
       "156"
      ]
     },
     "execution_count": 89,
     "metadata": {},
     "output_type": "execute_result"
    }
   ],
   "source": [
    "len(xgb.feature_importances_)"
   ]
  },
  {
   "cell_type": "code",
   "execution_count": 95,
   "metadata": {},
   "outputs": [
    {
     "data": {
      "text/plain": [
       "[('cvr1', 0.045500506),\n",
       " ('click_through_rate', 0.044826426),\n",
       " ('Mac Desktop', 0.042130098),\n",
       " ('click', 0.035389282),\n",
       " ('age_bucket_30-35', 0.034715202),\n",
       " ('data', 0.032355916),\n",
       " ('gender_Female', 0.032018874),\n",
       " ('gender_Male', 0.032018874),\n",
       " ('submit', 0.031344794),\n",
       " ('cvr2', 0.031344794),\n",
       " ('signup_method_basic', 0.029322548),\n",
       " ('view', 0.027974386),\n",
       " ('booking_request', 0.027974386),\n",
       " ('iPhone', 0.024941018),\n",
       " ('Windows Desktop', 0.023592854),\n",
       " ('signup_method_facebook', 0.022581732),\n",
       " ('signup_app_Web', 0.020896528),\n",
       " ('iPad Tablet', 0.019211324),\n",
       " ('year_created_2011', 0.018200202),\n",
       " ('first_device_type_Mac Desktop', 0.016514998)]"
      ]
     },
     "execution_count": 95,
     "metadata": {},
     "output_type": "execute_result"
    }
   ],
   "source": [
    "top_features = []\n",
    "for i, col in enumerate(X_train.columns):\n",
    "   top_features.append((col, xgb.feature_importances_[i]))\n",
    "\n",
    "top_features = sorted(top_features, key= lambda x: x[1], reverse= True)\n",
    "top_features[:20]"
   ]
  },
  {
   "cell_type": "code",
   "execution_count": 101,
   "metadata": {},
   "outputs": [
    {
     "data": {
      "text/plain": [
       "[('Blackberry', 153.98508125),\n",
       " ('age_bucket_30-35', 78.85397367961167),\n",
       " ('cvr2', 60.24663583806453),\n",
       " ('signup_method_facebook', 51.943872343283566),\n",
       " ('age_bucket_25-30', 46.138335008108086),\n",
       " ('year_created_2014', 39.26702261666667),\n",
       " ('booking_request', 39.224275791084345),\n",
       " ('affiliate_channel_content', 36.69130148148148),\n",
       " ('gender_Male', 35.56441898210525),\n",
       " ('gender_Female', 34.215170052631564),\n",
       " ('signup_method_basic', 28.908176728735647),\n",
       " ('first_device_type_Mac Desktop', 27.143512510204086),\n",
       " ('first_device_type_Other/Unknown', 19.389172496666667),\n",
       " ('year_created_2011', 19.100022537037038),\n",
       " ('age_bucket_35-40', 19.043809888888887),\n",
       " ('signup_app_Web', 17.410547708064517),\n",
       " ('year_created_2013', 13.296360116666666),\n",
       " ('first_affiliate_tracked_omg', 12.441151642857148),\n",
       " ('age_bucket_45-50', 12.399080777777776),\n",
       " ('year_created_2010', 12.164442749999997)]"
      ]
     },
     "execution_count": 101,
     "metadata": {},
     "output_type": "execute_result"
    }
   ],
   "source": [
    "import operator\n",
    "ig = xgb.booster().get_score(importance_type='gain')\n",
    "ig = sorted(ig.items(), key= operator.itemgetter(1), reverse= True)\n",
    "ig[:20]"
   ]
  }
 ],
 "metadata": {
  "kernelspec": {
   "display_name": "Python 3",
   "language": "python",
   "name": "python3"
  },
  "language_info": {
   "codemirror_mode": {
    "name": "ipython",
    "version": 3
   },
   "file_extension": ".py",
   "mimetype": "text/x-python",
   "name": "python",
   "nbconvert_exporter": "python",
   "pygments_lexer": "ipython3",
   "version": "3.6.1"
  }
 },
 "nbformat": 4,
 "nbformat_minor": 2
}
