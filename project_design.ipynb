{
 "cells": [
  {
   "cell_type": "markdown",
   "metadata": {},
   "source": [
    "# Project Design\n",
    "\n",
    "### Project Problem and Hypothesis\n",
    "\n",
    "* My project is based on a Kaggle Competition on predicting new user bookings for Airbnb users. \n",
    "* Background: Airbnb is an online marketplace for short-term rentals. The company is now worth 30B dollars, and continues to grow rapidly\n",
    "* The Problem: Airbnb misses on potential revenue opportunities when it doesn’t tailor the website to match what a prospective guest is looking for because conversion rates for bookings drop\n",
    "* My Objective: Predict in which market a new user will book his/her first travel experience on Airbnb. \n",
    "* Impact: Doing so would allow Airbnb to share more personalized content with its community upfront\n",
    "* Hypothesis: By better predicting where a new user will book their first travel experience, Airbnb will be able to decrease the average time to first booking, thereby increasing the probability of conversion and optimizing its revenue\n",
    "* Machine learning context: One of the tables in the dataset has a ‘country_destination’ column, which is the variable I am interested in predicting; as such, I will use a supervised learning model. Moreover, due to the categorical nature of the target variable, this project should fall under a multi-classification problem\n",
    "\n",
    "### Methods and Models to Run\n",
    "I expect to use 4-5 classification models, which include:\n",
    "\n",
    "1/ Naive Bayes Classifier\n",
    "\n",
    "2/ K-Nearest Neighbors\n",
    "\n",
    "3/ Random Forest Classifier\n",
    "\n",
    "4/ Boosting Ensemble\n",
    "\n",
    "5/ Support Vector Machine\n",
    "\n",
    "### Datasets\n",
    "* The data comes from a Kaggle dataset provided by Airbnb back in 2015\n",
    "* There are 4 tables provided in CSV format: a user table, a web sessions table, a demographic table, and a country table\n",
    "* The main table is the user table and includes the following columns: [user_id, date_account_created, first_active, gender, age, signup_flow, language, affiliate_channel, first_marketing_touch, signup_app, device_type, first_browser, country_destination]\n",
    "* Additionally, the sessions table has the following columns: [user_id, action, action_type, action_detail, device_type, secs_elapsed]\n",
    "\n",
    "### Domain knowledge\n",
    "* In my current role as a Data Analyst, I work a lot with marketing and online session data. I have looked at online behavior patterns, but more to find interesting insights that can influence decision making. I would like to apply that data to help make predictions that guide some product decisions, so I think this is a relevant practice data set for me. \n",
    "\n",
    "* In terms of additional research, since this is a Kaggle competition, there are other exploratory Kernels that I could look at to see what interesting dicing of the data has been perform. I would like to do this after my own initial exploration so as not to bias my thinking. \n",
    "\n",
    "\n",
    "### Project Concerns\n",
    "A few project concerns come to mind:\n",
    "\n",
    "First, there is a lot of missing user data, especially around gender and age which could be very valuable from a prediciton standpoint. This means I'll have to impute the missing data, but since it's a lot, I am wondering if it makes sense to use a learning model to approach the data rather than a more simplistic approach. \n",
    "\n",
    "Second, the two main tables I am using - user data and session data - seem to be built with a different perspective. An observation for the user data is a single user, with various user attributes as different variables. However, the session data is presented more as an 'activity stream'. In other words, a single user can have multiple sessions. So I am still not sure as the best way to group the session data in such a way that would allow me to join the two tables together in a meaningful way.\n",
    "\n",
    "Third, the user data dates back to 2010, but the session data is only available from 2014 and onward. I am concerned that if I use the session data, I will have a lot of null values for users with session data pre-2014. I would have to drop these, and the dramatically reduced dataset size could likely impact model performance.\n",
    "\n",
    "I am also having trouble understanding how to think about the cost of my model being wrong because I'm not clear on how to think about a confusion matrix beyond a 2x2 form. Intuitively, the cost of making a missclassification error would be to push forward the wrong country of destination a potential user is interested in. If this makes it more difficult to navigate to their desired destination page, then the likelihood of conversion will probably drop. If the average booking on Airbnb is 100 dollars, and the average take rate by the company is approximately 10% (when you sum up the fees paid by guests and hosts), then the expected cost of an error is about 10 dollars. \n",
    "\n",
    "\n",
    "### Outcomes\n",
    "\n",
    "My primary target audience would be the new user acquisition team, specifically the product managers and software developers in charge of creating the personalized pages on the Airbnb website. From a machine learning standpoint, I would expect my output to be a several models with cross validation, and then an assessment as to which model has the best predictive ability for Airbnb's new users. I don't expect my model to be extremely complicated as the main user table has roughly 12 columns. I would like to try some feature engineering to increase the number of variables, or improve their explanatory power, but I don't foresee an explosion of new variables. To be considered a success, I would like my model to be considerably better than a Naive Bayes classifier, which - although a good starting predictor - will act as a baseline for some of the other models.\n"
   ]
  },
  {
   "cell_type": "code",
   "execution_count": null,
   "metadata": {
    "collapsed": true
   },
   "outputs": [],
   "source": []
  }
 ],
 "metadata": {
  "kernelspec": {
   "display_name": "Python 3",
   "language": "python",
   "name": "python3"
  },
  "language_info": {
   "codemirror_mode": {
    "name": "ipython",
    "version": 3
   },
   "file_extension": ".py",
   "mimetype": "text/x-python",
   "name": "python",
   "nbconvert_exporter": "python",
   "pygments_lexer": "ipython3",
   "version": "3.6.1"
  }
 },
 "nbformat": 4,
 "nbformat_minor": 2
}
